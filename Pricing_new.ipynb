{
 "cells": [
  {
   "attachments": {},
   "cell_type": "markdown",
   "metadata": {},
   "source": [
    "### Importing Libr"
   ]
  },
  {
   "cell_type": "code",
   "execution_count": 106,
   "metadata": {},
   "outputs": [],
   "source": [
    "from bs4 import BeautifulSoup # Импортируем библиотеку BeautifulSoup\n",
    "from selenium import webdriver\n",
    "import pandas as pd # Импортируем библиотеку Pandas\n",
    "from fake_useragent import UserAgent\n",
    "from selenium.webdriver.chrome.options import Options\n",
    "from time import sleep\n",
    "import os\n",
    "from selenium.webdriver.support.ui import WebDriverWait\n",
    "from selenium.common.exceptions import TimeoutException\n",
    "from datetime import datetime\n"
   ]
  },
  {
   "attachments": {},
   "cell_type": "markdown",
   "metadata": {},
   "source": [
    "### Import links to scrape"
   ]
  },
  {
   "cell_type": "code",
   "execution_count": 107,
   "metadata": {},
   "outputs": [
    {
     "name": "stdout",
     "output_type": "stream",
     "text": [
      "<class 'pandas.core.frame.DataFrame'>\n",
      "RangeIndex: 1206 entries, 0 to 1205\n",
      "Data columns (total 9 columns):\n",
      " #   Column        Non-Null Count  Dtype \n",
      "---  ------        --------------  ----- \n",
      " 0   Id            1206 non-null   object\n",
      " 1   Brand         1206 non-null   object\n",
      " 2   Product       1206 non-null   object\n",
      " 3   Concept code  1206 non-null   object\n",
      " 4   Category      1206 non-null   object\n",
      " 5   Price Shelf   1206 non-null   object\n",
      " 6   Sector        1206 non-null   object\n",
      " 7   Segment       1205 non-null   object\n",
      " 8   Link          1204 non-null   object\n",
      "dtypes: object(9)\n",
      "memory usage: 84.9+ KB\n"
     ]
    },
    {
     "data": {
      "text/plain": [
       "None"
      ]
     },
     "metadata": {},
     "output_type": "display_data"
    },
    {
     "data": {
      "text/plain": [
       "'Avon-'"
      ]
     },
     "metadata": {},
     "output_type": "display_data"
    },
    {
     "data": {
      "text/plain": [
       "(87, 9)"
      ]
     },
     "metadata": {},
     "output_type": "display_data"
    },
    {
     "data": {
      "text/plain": [
       "'Faberlic-'"
      ]
     },
     "metadata": {},
     "output_type": "display_data"
    },
    {
     "data": {
      "text/plain": [
       "(92, 9)"
      ]
     },
     "metadata": {},
     "output_type": "display_data"
    },
    {
     "data": {
      "text/plain": [
       "'Podrugka-'"
      ]
     },
     "metadata": {},
     "output_type": "display_data"
    },
    {
     "data": {
      "text/plain": [
       "(92, 9)"
      ]
     },
     "metadata": {},
     "output_type": "display_data"
    },
    {
     "data": {
      "text/plain": [
       "'Letual-'"
      ]
     },
     "metadata": {},
     "output_type": "display_data"
    },
    {
     "data": {
      "text/plain": [
       "(169, 9)"
      ]
     },
     "metadata": {},
     "output_type": "display_data"
    },
    {
     "data": {
      "text/plain": [
       "'Apple-'"
      ]
     },
     "metadata": {},
     "output_type": "display_data"
    },
    {
     "data": {
      "text/plain": [
       "(339, 9)"
      ]
     },
     "metadata": {},
     "output_type": "display_data"
    },
    {
     "data": {
      "text/plain": [
       "'Ozon-'"
      ]
     },
     "metadata": {},
     "output_type": "display_data"
    },
    {
     "data": {
      "text/plain": [
       "(214, 9)"
      ]
     },
     "metadata": {},
     "output_type": "display_data"
    },
    {
     "data": {
      "text/plain": [
       "'Wild-'"
      ]
     },
     "metadata": {},
     "output_type": "display_data"
    },
    {
     "data": {
      "text/plain": [
       "(198, 9)"
      ]
     },
     "metadata": {},
     "output_type": "display_data"
    },
    {
     "data": {
      "text/plain": [
       "'Stellary-'"
      ]
     },
     "metadata": {},
     "output_type": "display_data"
    },
    {
     "data": {
      "text/plain": [
       "(6, 9)"
      ]
     },
     "metadata": {},
     "output_type": "display_data"
    },
    {
     "data": {
      "text/plain": [
       "'Yves-'"
      ]
     },
     "metadata": {},
     "output_type": "display_data"
    },
    {
     "data": {
      "text/plain": [
       "(7, 9)"
      ]
     },
     "metadata": {},
     "output_type": "display_data"
    },
    {
     "data": {
      "text/plain": [
       "'Herb-'"
      ]
     },
     "metadata": {},
     "output_type": "display_data"
    },
    {
     "data": {
      "text/plain": [
       "(6, 9)"
      ]
     },
     "metadata": {},
     "output_type": "display_data"
    }
   ],
   "source": [
    "\n",
    "links = pd.read_excel('Database_new.xlsx')\n",
    "database = pd.read_excel(\"Database_new.xlsx\")\n",
    "display(links.info())\n",
    "\n",
    "apple_links = links[(links['Brand']=='Goldapple') & (links['Link'].notna())]"
   ]
  },
  {
   "attachments": {},
   "cell_type": "markdown",
   "metadata": {},
   "source": [
    "### Parser"
   ]
  },
  {
   "cell_type": "code",
   "execution_count": 118,
   "metadata": {},
   "outputs": [
    {
     "name": "stderr",
     "output_type": "stream",
     "text": [
      "/var/folders/10/0pwhf9w54g7cp280nnbyhsfw0000gn/T/ipykernel_66155/1912706036.py:1: FutureWarning: Using short name for 'orient' is deprecated. Only the options: ('dict', list, 'series', 'split', 'records', 'index') will be used in a future version. Use one of the above to silence this warning.\n",
      "  apple_dict = apple_links[['Id', 'Link']].set_index('Id').T.to_dict('Link')\n"
     ]
    }
   ],
   "source": [
    "\n",
    "apple_dict = apple_links[['Id', 'Link']].set_index('Id').T.to_dict('Link')\n",
    "apple_links_new = []\n",
    "\n",
    "for key, value in apple_dict.items():\n",
    "    list_ = [key,value]\n",
    "    apple_links_new.append(list_)"
   ]
  },
  {
   "cell_type": "code",
   "execution_count": 119,
   "metadata": {},
   "outputs": [],
   "source": [
    "apple_df = pd.DataFrame(columns=[\"Id\", \"Product\", \"Standart_price\", \"Merch_price\", \"Link\", \"Date\"])\n",
    "apple_database = pd.read_excel(\"apple_pars.xlsx\")\n",
    "\n",
    "class GA(webdriver.Chrome):\n",
    "    def __init__(self, driver_path = \"Scraping/\"):\n",
    "        self.driver_path = driver_path\n",
    "        os.environ['PATH'] = self.driver_path\n",
    "        super(GA, self).__init__()\n",
    "        self.maximize_window()\n",
    "        self.implicitly_wait(20)\n",
    "        \n",
    "    def ga_scrape_page(self):\n",
    "        \n",
    "        global apple_df, apple_database\n",
    "        \n",
    "        try:\n",
    "        \n",
    "            for link in apple_links_new:\n",
    "                \n",
    "                self.get(link[1][0])\n",
    "                sleep(5)\n",
    "                \n",
    "                Id = link[0]\n",
    "                results_a = []\n",
    "                results_b = []\n",
    "                results_c = []\n",
    "\n",
    "                prod = []\n",
    "                price_stand = []\n",
    "                price_merch = []\n",
    "                current_link = link[1][0]\n",
    "\n",
    "                content = self.page_source\n",
    "                soup = BeautifulSoup(content) \n",
    "                \n",
    "                data_a = soup.find('div', class_ = 'oWdx+ BHvhN')\n",
    "                if data_a not in results_a:\n",
    "                    if data_a:\n",
    "                        if data_a.text.replace(\"\\n\", \"\") != ' 0\\xa0₽ ':\n",
    "                            results_a.append(data_a.text)\n",
    "\n",
    "            \n",
    "                data_b = soup.find('div', class_ = 'oWdx+ _74opb HCpOL BHvhN')\n",
    "                if data_b not in results_b:\n",
    "                    if data_b:\n",
    "                        if data_b.text.replace(\"\\n\", \"\") != ' 0\\xa0₽ ':\n",
    "                            results_b.append(data_b.text)\n",
    "                    else:\n",
    "                        results_b = results_a\n",
    "                    \n",
    "                data_c = soup.find('h1', class_ = 'PdKWR')\n",
    "                if data_c not in results_c:\n",
    "                    if data_c:\n",
    "                        results_c.append(data_c.text)\n",
    "                    \n",
    "        \n",
    "                for pm in results_a:\n",
    "                    price_merch.append(pm.replace(\"\\n\", \"\").replace(\"  \", \"\"))\n",
    "\n",
    "                for ps in results_b:\n",
    "                    price_stand.append(ps.replace(\"\\n\", \"\").replace(\"  \", \"\"))\n",
    "\n",
    "                for pr in results_c:\n",
    "                    prod.append(pr.replace(\"\\n\", \"\").replace(\"  \", \"\"))\n",
    "            \n",
    "                if results_a:    \n",
    "                    apple = pd.DataFrame({\"Id\": Id, \"Product\": prod, \"Standart_price\": price_stand[0], \"Merch_price\": price_merch, \"Link\":current_link})\n",
    "                    apple_df = apple_df.append(apple, ignore_index=True)\n",
    "                    apple_df[\"Date\"] = datetime.today().strftime('%Y-%m-%d')\n",
    "                    apple_df = apple_df.drop_duplicates(subset=[\"Product\", \"Link\", \"Date\"])\n",
    "                    apple_database = pd.concat([apple_database, apple_df] , axis=0, ignore_index=True)\n",
    "                    apple_database = apple_database.drop_duplicates(subset=[\"Product\", \"Link\", \"Date\"])\n",
    "                    apple_database.to_excel(\"apple_pars.xlsx\", sheet_name=\"Sheet1\", index=False)\n",
    "                \n",
    "        except:\n",
    "            \n",
    "            last_id = apple_df.tail(1).Id.values\n",
    "            last_index = 0\n",
    "\n",
    "            for i in apple_links_new:\n",
    "                last_index = last_index + 1\n",
    "                if i[0] == last_id:\n",
    "                    last_index = last_index - 1\n",
    "                    break\n",
    "            \n",
    "            for link in apple_links_new[last_index:]:\n",
    "                \n",
    "                self.get(link[1][0])\n",
    "                sleep(5)\n",
    "                \n",
    "                Id = link[0]\n",
    "                results_a = []\n",
    "                results_b = []\n",
    "                results_c = []\n",
    "\n",
    "                prod = []\n",
    "                price_stand = []\n",
    "                price_merch = []\n",
    "                current_link = link[1][0]\n",
    "\n",
    "                content = self.page_source\n",
    "                soup = BeautifulSoup(content) \n",
    "                \n",
    "                data_a = soup.find('div', class_ = 'oWdx+ BHvhN')\n",
    "                if data_a not in results_a:\n",
    "                    if data_a:\n",
    "                        if data_a.text.replace(\"\\n\", \"\") != ' 0\\xa0₽ ':\n",
    "                            results_a.append(data_a.text)\n",
    "\n",
    "            \n",
    "                data_b = soup.find('div', class_ = 'oWdx+ _74opb HCpOL BHvhN')\n",
    "                if data_b not in results_b:\n",
    "                    if data_b:\n",
    "                        if data_b.text.replace(\"\\n\", \"\") != ' 0\\xa0₽ ':\n",
    "                            results_b.append(data_b.text)\n",
    "                    else:\n",
    "                        results_b = results_a\n",
    "                    \n",
    "                data_c = soup.find('h1', class_ = 'PdKWR')\n",
    "                if data_c not in results_c:\n",
    "                    if data_c:\n",
    "                        results_c.append(data_c.text)\n",
    "                    \n",
    "        \n",
    "                for pm in results_a:\n",
    "                    price_merch.append(pm.replace(\"\\n\", \"\").replace(\"  \", \"\"))\n",
    "\n",
    "                for ps in results_b:\n",
    "                    price_stand.append(ps.replace(\"\\n\", \"\").replace(\"  \", \"\"))\n",
    "\n",
    "                for pr in results_c:\n",
    "                    prod.append(pr.replace(\"\\n\", \"\").replace(\"  \", \"\"))\n",
    "            \n",
    "                if results_a:    \n",
    "                    apple = pd.DataFrame({\"Id\": Id, \"Product\": prod, \"Standart_price\": price_stand[0], \"Merch_price\": price_merch, \"Link\":current_link})\n",
    "                    apple_df = apple_df.append(apple, ignore_index=True)\n",
    "                    apple_df[\"Date\"] = datetime.today().strftime('%Y-%m-%d')\n",
    "                    apple_df = apple_df.drop_duplicates(subset=[\"Product\", \"Link\", \"Date\"])\n",
    "                    apple_database = pd.concat([apple_database, apple_df] , axis=0, ignore_index=True)\n",
    "                    apple_database = apple_database.drop_duplicates(subset=[\"Product\", \"Link\", \"Date\"])\n",
    "                    apple_database.to_excel(\"apple_pars.xlsx\", sheet_name=\"Sheet1\", index=False)\n",
    "                    \n",
    "inst_ga = GA()\n",
    "inst_ga.ga_scrape_page       "
   ]
  }
 ],
 "metadata": {
  "kernelspec": {
   "display_name": "Python 3.10.0 64-bit",
   "language": "python",
   "name": "python3"
  },
  "language_info": {
   "codemirror_mode": {
    "name": "ipython",
    "version": 3
   },
   "file_extension": ".py",
   "mimetype": "text/x-python",
   "name": "python",
   "nbconvert_exporter": "python",
   "pygments_lexer": "ipython3",
   "version": "3.10.0"
  },
  "orig_nbformat": 4,
  "vscode": {
   "interpreter": {
    "hash": "aee8b7b246df8f9039afb4144a1f6fd8d2ca17a180786b69acc140d282b71a49"
   }
  }
 },
 "nbformat": 4,
 "nbformat_minor": 2
}
